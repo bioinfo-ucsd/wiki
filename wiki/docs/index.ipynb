{
 "cells": [
  {
   "cell_type": "markdown",
   "id": "e8093160",
   "metadata": {},
   "source": [
    "# Bioinformatics Wiki\n",
    "\n",
    "This is a collection of bioinformatics and computational biology best practices developed by Arya Massarat, Michael Cuoco, and other students of the UCSD Bioinformatics and Systems Biology (BISB) PhD Program."
   ]
  }
 ],
 "metadata": {
  "jupytext": {
   "cell_metadata_filter": "-all",
   "main_language": "python",
   "notebook_metadata_filter": "-all"
  },
  "kernelspec": {
   "display_name": "Python 3.10.6 64-bit",
   "language": "python",
   "name": "python3"
  },
  "language_info": {
   "name": "python",
   "version": "3.10.6"
  },
  "vscode": {
   "interpreter": {
    "hash": "b0fa6594d8f4cbf19f97940f81e996739fb7646882a419484c72d19e05852a7e"
   }
  }
 },
 "nbformat": 4,
 "nbformat_minor": 5
}
