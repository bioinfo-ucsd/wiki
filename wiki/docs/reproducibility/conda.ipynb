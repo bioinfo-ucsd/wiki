{
 "cells": [
  {
   "cell_type": "markdown",
   "metadata": {},
   "source": [
    "# Package Managers"
   ]
  },
  {
   "cell_type": "markdown",
   "metadata": {},
   "source": [
    "## A package manager handles dependency resolution"
   ]
  },
  {
   "cell_type": "markdown",
   "metadata": {},
   "source": [
    "In the previous section, we saw that certain versions of packages can have conflicts with each other. So how should you figure out which versions of a package won't cause conflicts? You can use a package manager!"
   ]
  },
  {
   "cell_type": "markdown",
   "metadata": {},
   "source": [
    "![](../../images/dependency_resolution_package_managers.jpg)"
   ]
  },
  {
   "cell_type": "markdown",
   "metadata": {},
   "source": [
    "There are two sets of input to a package manager: 1) the packages requested by the user and 2) a database of available packages and versions. Consider the following `pip` command.\n",
    "```bash\n",
    "pip install 'scikit-learn' 'numpy>=1.21.6'\n",
    "```\n",
    "In this example, the user is asking the `pip` package manager to install `scikit-learn` and some version of `numpy` greater than `1.21.6`. In the process, `pip` will search PyPI (the python packaging index), a database of all versions of every python package and their dependency constraints."
   ]
  },
  {
   "cell_type": "markdown",
   "metadata": {},
   "source": [
    "While attempting to install packages, `pip` always has one goal. It tries to answer the question:\n",
    "> What are the newest versions of the requested packages and their dependencies that can be installed together such that a conflict does not arise?\n",
    "\n",
    "If it can find a compatible set of versions, it will install them. Otherwise, it will raise an error message."
   ]
  },
  {
   "cell_type": "markdown",
   "metadata": {},
   "source": [
    "## What about when conflicts are unavoidable? Use environments!"
   ]
  },
  {
   "cell_type": "markdown",
   "metadata": {
    "vscode": {
     "languageId": "plaintext"
    }
   },
   "source": [
    "## What about when conflicts are unavoidable?"
   ]
  },
  {
   "cell_type": "markdown",
   "metadata": {},
   "source": [
    "## Conda, the ultimate package and environment manager"
   ]
  },
  {
   "cell_type": "code",
   "execution_count": null,
   "metadata": {},
   "outputs": [],
   "source": []
  }
 ],
 "metadata": {
  "kernelspec": {
   "display_name": "Python 3 (ipykernel)",
   "language": "python",
   "name": "python3"
  },
  "language_info": {
   "codemirror_mode": {
    "name": "ipython",
    "version": 3
   },
   "file_extension": ".py",
   "mimetype": "text/x-python",
   "name": "python",
   "nbconvert_exporter": "python",
   "pygments_lexer": "ipython3",
   "version": "3.11.8"
  }
 },
 "nbformat": 4,
 "nbformat_minor": 4
}
