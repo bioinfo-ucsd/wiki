{
 "cells": [
  {
   "cell_type": "markdown",
   "metadata": {},
   "source": [
    "# Replicable and Reproducible Bioinformatics Research"
   ]
  },
  {
   "cell_type": "markdown",
   "metadata": {},
   "source": [
    "## What does research reproducibility mean? {cite:p}`goodmanWhatDoesResearch2016c`\n",
    "\n",
    "*The United States National Science Foundation (NSF) Subcommittee on Replicability in Science* defines reproducibility as \n",
    ">the ability of a researcher to duplicate the results of a prior study using the same materials as were used by the original investigator. \n",
    "\n",
    "This is distinct from replicability, defined by this NSF subcommittee as \n",
    ">the ability of a researcher to duplicate the results of a prior study if the same procedures are followed but new data are collected.\n",
    "\n",
    "While replicability is important, the subcommittee argues that \n",
    ">reproducibility is a minimum necessary condition for a finding to be believable and informative. \n",
    "\n",
    "## Why does this matter?\n",
    "\n",
    "If you discovered something interesting in your data, it is critical that **the methods you used can be repeated exactly as you performed them**. If you and others cannot replicate and reproduce your results, then you cannot be sure that your results are correct. \n",
    "\n",
    "## What if I'm developing a method?\n",
    "\n",
    "## The reproducibility crisis\n",
    "\n",
    "## Proposed reprodubility standards\n",
    "\n",
    "## Conda \n",
    "\n",
    "## Git/Github\n",
    "\n",
    "## Jupyter notebooks\n",
    "\n",
    "## Docker\n",
    "\n",
    "## Snakemake"
   ]
  },
  {
   "cell_type": "markdown",
   "metadata": {},
   "source": [
    "### Bibliography\n",
    "\n",
    "```{bibliography}\n",
    "```"
   ]
  }
 ],
 "metadata": {
  "language_info": {
   "name": "python"
  },
  "orig_nbformat": 4
 },
 "nbformat": 4,
 "nbformat_minor": 2
}
