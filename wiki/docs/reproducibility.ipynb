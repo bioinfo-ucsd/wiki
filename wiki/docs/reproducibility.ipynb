{
 "cells": [
  {
   "cell_type": "markdown",
   "metadata": {},
   "source": [
    "# Reproducible Bioinformatics Research\n",
    "\n",
    "![](../images/reproducibility.jpeg)"
   ]
  },
  {
   "cell_type": "markdown",
   "metadata": {},
   "source": [
    "## What does research reproducibility mean?\n",
    "\n",
    "According to the *U.S. National Science Foundation (NSF) subcommittee on replicability in science*...\n",
    ">reproducibility refers to the ability of a researcher to duplicate the results of a prior study using the same materials as were used by the original investigator. That is, a second researcher might use the same raw data to build the same analysis files and implement the same statistical analysis in an attempt to yield the same results...Reproducibility is a minimum necessary condition for a finding to be believable and informative.\n",
    "{cite:p}`goodmanWhatDoesResearch2016c`\n",
    "\n",
    "**Why does this matter?** If you discovered something interesting in your data, it is critical that the methods you used can be repeated exactly as you performed them. If you and others cannot replicate and reproduce your results, then you cannot be sure that your results are correct. \n",
    "\n",
    "<!-- TODO: add definition of replicability? -->\n"
   ]
  },
  {
   "cell_type": "markdown",
   "metadata": {},
   "source": [
    "## The reproducibility crisis \n",
    "\n",
    "As the rate of scientific publication has dramatically increased over the last 50 years, so have concerns about a growing inability for scientific findings to be reproduced, termed the \"reproducibility crisis\". In 2016, *Nature* published a survey of 1576 scientists, who were asked about their experiences with research reproducibility  {cite:p}`baker500ScientistsLift2016`. \n",
    "\n",
    ">More than 70% of researchers have tried and failed to reproduce another scientist's experiments, and more than half have failed to reproduce their own experiments (Figure 1)\n",
    "\n",
    "\n",
    "1. The problem                     | 2. The contributing factors\n",
    "-----------------------------------|---------------------------------\n",
    "![](../images/failedreproduce.jpg) | ![](../images/irreproduciblefactors.jpg)\n",
    "\n",
    "\n",
    "When asked about the factors that contribute to irreproducible research, the scientists surveyed identified terms relevant to data analysis among others. As bioinformaticians, we can help address these issues by making our code and data available to others, and by using best practices in our work."
   ]
  },
  {
   "cell_type": "markdown",
   "metadata": {},
   "source": [
    "## Factors limiting bioinformatics reproducibility\n",
    "\n",
    "1. Code availability \n",
    "2. Code versioning\n",
    "3. Software and hardware dependencies\n",
    "4. Analysis logic\n",
    "5. Analysis executiong\n"
   ]
  },
  {
   "cell_type": "markdown",
   "metadata": {},
   "source": [
    "## Proposed bioinformatics reprodubility standards \n",
    "\n",
    "{cite:t}`heilReproducibilityStandardsMachine2021` articulated some standards for reproducible bioinformatics research, which address key . These standards are summarized in the table below.\n",
    "\n",
    "\n",
    "|                              | Bronze | Silver | Gold |\n",
    "|------------------------------|--------|--------|------|\n",
    "| Data published and downloadable         |   x    |   x    |   x   |\n",
    "| Models published and downloadable       |   x    |   x    |   x   |\n",
    "| Source code published and downloadable  |   x    |   x    |   x   |\n",
    "| Dependencies set up in a single command |        |   x    |   x   |\n",
    "| Key analysis details recorded           |        |   x    |   x   |\n",
    "| Analysis components set to deterministic|        |   x    |   x   |\n",
    "| Entire analysis reproducible with a single command | | |   x   |>"
   ]
  },
  {
   "cell_type": "markdown",
   "metadata": {},
   "source": [
    "\n",
    "## Conda \n",
    "\n",
    "## Git/Github\n",
    "\n",
    "## Jupyter notebooks\n",
    "\n",
    "## Docker\n",
    "\n",
    "## Snakemake"
   ]
  },
  {
   "cell_type": "markdown",
   "metadata": {},
   "source": [
    "### Bibliography\n",
    "\n",
    "```{bibliography}\n",
    "```"
   ]
  }
 ],
 "metadata": {
  "language_info": {
   "name": "python"
  },
  "orig_nbformat": 4
 },
 "nbformat": 4,
 "nbformat_minor": 2
}
