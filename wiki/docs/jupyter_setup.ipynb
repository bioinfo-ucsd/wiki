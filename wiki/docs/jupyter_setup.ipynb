{
 "cells": [
  {
   "cell_type": "markdown",
   "id": "b47c5e7b-031a-4ebc-af8e-cf0c2d48d7dd",
   "metadata": {},
   "source": [
    "# Using Jupyter on your cluster"
   ]
  },
  {
   "cell_type": "markdown",
   "id": "fe959d67-586c-4b9b-8ae5-d79bc569c469",
   "metadata": {},
   "source": [
    "## Setup jupyter"
   ]
  },
  {
   "cell_type": "markdown",
   "id": "6885e1da-48d7-40bc-b9d1-6a8b492e9716",
   "metadata": {},
   "source": [
    "1. Install `jupyterlab` and [`nb_conda_kernels`](https://github.com/Anaconda-Platform/nb_conda_kernels) using `conda` on the cluster.\n",
    "\n",
    "    I recommend installing them into their own environment. Let’s call it `jupyter`.\n",
    "    ```bash\n",
    "    conda create -n jupyter -c conda-forge jupyterlab nb_conda_kernels\n",
    "    ```\n",
    "\n",
    "    _But_ if you're **not** concerned about a package in your _base_ environment conflicting with jupyter or its dependencies now or in the future, you can just install them in your _base_ environment, instead.\n",
    "    ```bash\n",
    "    conda install -n base -c conda-forge jupyterlab nb_conda_kernels\n",
    "    ```\n",
    "2. If you installed jupyter into its own environment (as recommended), you’ll need to activate that environment every time you want to use it. Do this now.\n",
    "    ```bash\n",
    "    conda activate jupyter\n",
    "    ```\n",
    "3. [Create a password](https://agent-jay.github.io/2018/03/jupyterserver/#step-1-password-setup)\n",
    "    ```bash\n",
    "    jupyter server --generate-config\n",
    "    jupyter server password\n",
    "    ```"
   ]
  },
  {
   "cell_type": "markdown",
   "id": "e252d437-02e5-46a7-9306-51b0a4418785",
   "metadata": {},
   "source": [
    "## Setup a conda environment to use with jupyter\n",
    "**Scenario**: You would like to install R version 4.0 and use it from within Jupyter.\n",
    "In order to access your new R installation from within Jupyter, you will also need to install [IRKernel](https://github.com/IRkernel/IRkernel). So, create a new environment called r4 containing both R version 4.0 and IRKernel:\n",
    "```bash\n",
    "conda create -n r4 -c conda-forge 'r-base=4.0' 'r-irkernel'\n",
    "```\n",
    "\n",
    "**Scenario**: A similar strategy can be employed for Python. Let’s say you’d like to install python 3.5 in a new conda environment called py35, and you want to run your python 3.5 installation from within Jupyter.\n",
    "To do this, just install both python 3.5 and [IPython kernel](https://ipython.readthedocs.io/en/stable/install/kernel_install.html) in a new environment:\n",
    "```bash\n",
    "conda create -n py35 -c conda-forge 'python=3.5' ipykernel\n",
    "```\n",
    "\n",
    "**Scenario**: Instead, you have an existing environment called py35 with python 3.5, and you’d like to run your python 3.5 installation from within Jupyter.\n",
    "Just install [IPython kernel](https://ipython.readthedocs.io/en/stable/install/kernel_install.html) in the existing environment:\n",
    "```bash\n",
    "conda install -n py35 -c conda-forge ipykernel\n",
    "```"
   ]
  },
  {
   "cell_type": "markdown",
   "id": "7c5f9934-f544-4108-bae0-7740ce36b25d",
   "metadata": {},
   "source": [
    "<p style='font-size:x-small'>In general, you will need to install a new kernel in every conda environment that you would like to use with jupyter. But you do not need to install a new copy of jupyter in every environment. The kernels that you install will allow jupyter in your `jupyter` environment to execute each version of Python and R that you install in other environments. And the `nb_conda_kernels` package will automatically detect kernels you’ve installed in those environments on startup.</p>"
   ]
  },
  {
   "cell_type": "markdown",
   "id": "d4fd9903-61c2-476f-bcc1-d6e2e72327d2",
   "metadata": {},
   "source": [
    "## Usage"
   ]
  },
  {
   "cell_type": "markdown",
   "id": "8e1e6a61-7e2e-437d-9bf3-62a26eddd154",
   "metadata": {},
   "source": [
    "1. When ssh-ing into the cluster, make sure to also [add a port-forward](https://www.digitalocean.com/community/tutorials/how-to-set-up-jupyter-notebook-for-python-3#step-2-(optional)-%E2%80%94-using-ssh-tunneling-to-connect-to-a-server-installation) to your ssh command. This will connect a port on your computer (ex: `8888`) to a port on the cluster (ex: `9999`):\n",
    "    ```bash\n",
    "    ssh -L 8888:localhost:9999 your_server_username@your_server_address\n",
    "    ```\n",
    "    It’s possible for you to choose a port that is being used by somebody else on the cluster. Pick a port 1024 < x < 65535 that nobody else is using. So **don’t use `9999`**.\n",
    "2. If you installed jupyter into its own environment, activate that environment on the cluster:\n",
    "    ```bash\n",
    "    conda activate jupyter\n",
    "    ```\n",
    "3. On the cluster, start jupyter with the cluster port you used in step #1. And don’t let jupyter try to open a browser:\n",
    "```bash\n",
    "jupyter lab --no-browser --port 9999\n",
    "```\n",
    "4. In a browser running on your own computer, go to http://localhost:8888/lab\n",
    "5. Log in using the password you created in step #3 of the setup\n",
    "6. Your R and python installations/environments should appear in the Notebook Launcher menu. Click on one to create a notebook. Watch [this video](https://www.youtube.com/watch?v=A5YyoCKxEOU&t=112s) to learn how to write one.\n",
    "\n",
    "When you’re done, make sure to shut down both your notebook kernel(s) (“Kernel” > “Shut Down All Kernels”) and Jupyter itself (“File” > “Shutdown”) from the menu bar! Otherwise, they might continue running on the cluster forever, especially if you use `screen` sessions."
   ]
  },
  {
   "cell_type": "markdown",
   "id": "a50afbd6-d56e-4d9b-a138-424605df6101",
   "metadata": {},
   "source": [
    "## Usage on an HPC\n",
    "If you are working on a high performance computing cluster like TSCC or Expanse, you should perform the following steps between steps 1 and 2 from above."
   ]
  },
  {
   "cell_type": "markdown",
   "id": "49f8bfd9-6c01-4273-924d-d8a8fe9665b2",
   "metadata": {},
   "source": [
    "1. Start an interactive node on your computing cluster\n",
    "2. Reverse-forward the port you chose (from step #1 above) from your interactive node back to the login node.\n",
    "\n",
    "    On TSCC (with the PBS-torque engine):\n",
    "    ```bash\n",
    "    ssh -NfR 9999:localhost:9999 $PBS_O_HOST\n",
    "    ```\n",
    "    \n",
    "    **OR** on Expanse (with the SLURM engine):\n",
    "    ```bash\n",
    "    ssh -NfR 9999:localhost:9999 $SLURM_SUBMIT_HOST\n",
    "    ```"
   ]
  },
  {
   "cell_type": "markdown",
   "id": "cde8fe0a-11a4-4944-bc1f-dfd873160795",
   "metadata": {},
   "source": [
    "<!-- ## Usage on Expanse\n",
    "TODO -->"
   ]
  },
  {
   "cell_type": "markdown",
   "id": "19654033-7af0-49f3-94e3-90fe25f80680",
   "metadata": {},
   "source": [
    "-------\n",
    "You're done! The rest of this document is optional."
   ]
  },
  {
   "cell_type": "markdown",
   "id": "f3710b02-0dc1-466a-9fe7-0eaefe58d224",
   "metadata": {},
   "source": [
    "## Simplified Usage Setup (optional)\n",
    "It’s possible to reduce the usage instructions above to just three memorable steps (see the next section below). Just follow these recommendations for a bit of extra setup."
   ]
  },
  {
   "cell_type": "markdown",
   "id": "f010b494-084c-4173-91ae-edb1774edbde",
   "metadata": {},
   "source": [
    "### Remove the port-forwarding step\n",
    "You can set up ssh so that it creates a port forward by default, whenever you connect to the cluster. Just add the `LocalForward` directive to the `~/.ssh/config` on your computer like [this](https://www.digitalocean.com/community/tutorials/how-to-configure-custom-connection-options-for-your-ssh-client#connection-forwarding). Here’s an example of what you can put in your `~/.ssh/config`:\n",
    "```\n",
    "Host a_short_server_nickname\n",
    "    HostName your_server_address\n",
    "    User your_server_username\n",
    "    LocalForward 8888 localhost:9999\n",
    "```"
   ]
  },
  {
   "cell_type": "markdown",
   "id": "9ae0c688-12e3-4cf2-9279-715198a29adf",
   "metadata": {},
   "source": [
    "### Remove the arguments that you pass to Jupyter\n",
    "You can have jupyter use the arguments above by default, whenever it is executed. Just set them in [the `~/.jupyter/jupyter_server_config.py` config file](https://jupyter-server.readthedocs.io/en/latest/other/full-config.html), similar to what they do [here](https://jupyter-notebook.readthedocs.io/en/stable/public_server.html#running-a-public-notebook-server):\n",
    "1. [Change the default port](https://stackoverflow.com/a/40436673) from this\n",
    "    ```\n",
    "    ## The port the server will listen on (env: JUPYTER_PORT).\n",
    "    #  Default: 0\n",
    "    # c.ServerApp.port = 0\n",
    "    ```\n",
    "    to this\n",
    "    ```\n",
    "    ## The port the server will listen on (env: JUPYTER_PORT).\n",
    "    #  Default: 0\n",
    "    c.ServerApp.port = 9999\n",
    "    ```\n",
    "2. [Don’t open a browser](https://stackoverflow.com/a/52210809). This should be _False_ by default:\n",
    "    ```\n",
    "    ## Whether to open in a browser after starting.\n",
    "    #                          The specific browser used is platform dependent and\n",
    "    #                          determined by the python standard library `webbrowser`\n",
    "    #                          module, unless it is overridden using the --browser\n",
    "    #                          (ServerApp.browser) configuration option.\n",
    "    #  Default: False\n",
    "    # c.ServerApp.open_browser = False\n",
    "    ```"
   ]
  },
  {
   "cell_type": "markdown",
   "id": "68767fe9-7a8f-45d9-94dc-6f3e3caf2679",
   "metadata": {},
   "source": [
    "### Do other things in your terminal while Jupyter is running\n",
    "To prevent jupyter from barfing into your terminal when it starts running, you can [send the start-up command to the background](https://unix.stackexchange.com/a/70728) and [silence it](https://unix.stackexchange.com/a/80632) in step #3 of the usage section:\n",
    "```bash\n",
    "jupyter lab &>/dev/null &\n",
    "```"
   ]
  },
  {
   "cell_type": "markdown",
   "id": "4649e3ea-1f93-445d-affd-5f5fb8ef91c0",
   "metadata": {},
   "source": [
    "### Activate the jupyter environment and execute jupyter simultaneously\n",
    "For those who installed jupyter into a separate jupyter conda environment, you can actually activate the environment and execute the command simultaneously, in a single command:\n",
    "```bash\n",
    "conda run -n jupyter jupyter lab\n",
    "```"
   ]
  },
  {
   "cell_type": "markdown",
   "id": "46db7530-9e26-4331-aece-544c39068f06",
   "metadata": {},
   "source": [
    "### Create an alias\n",
    "You can also create an [alias](https://linuxize.com/post/how-to-create-bash-aliases/) called `jup` so that you don’t have to type out the full command to start `jupyter` every time. Just run this command to add the alias to your `.bashrc` file on the cluster:\n",
    "```bash\n",
    "echo 'alias jup=\"conda run -n jupyter jupyter lab &>/dev/null\"' >> ~/.bashrc\n",
    "```\n",
    "Then, close and reopen your terminal or ssh connection."
   ]
  },
  {
   "cell_type": "markdown",
   "id": "0e514c76-5a36-4163-83d2-ee81e52362fe",
   "metadata": {},
   "source": [
    "## Simplified Usage (optional)"
   ]
  },
  {
   "cell_type": "markdown",
   "id": "c1453140-7dfd-4673-acec-94fdb2bb3396",
   "metadata": {},
   "source": [
    "Assuming you followed the steps to setup the simplified usage, the usage instructions will reduce to just three (or four) memorable steps:\n",
    "1. ssh into the cluster\n",
    "    ```bash\n",
    "    ssh your_short_server_nickname\n",
    "    ```\n",
    "2. If you are working on an HPC, you can login to an interactive node and reverse-forward your port at this stage.\n",
    "3. Start jupyter on the cluster\n",
    "    ```bash\n",
    "    jup &\n",
    "    ```\n",
    "4. In a browser running on your own computer, go to http://localhost:8888/lab"
   ]
  },
  {
   "cell_type": "markdown",
   "id": "a3b58562-f370-406e-89d0-9fa5144728b5",
   "metadata": {},
   "source": [
    "## Use screen to keep Jupyter running even with bad internet!\n",
    "If your ssh connection dies because of a choppy internet connection, your Jupyter instance will die, too. You can run jupyter from within a screen session to make it persist. Let’s adapt the Simplified Usage instructions."
   ]
  },
  {
   "cell_type": "markdown",
   "id": "341a3687-465e-4493-9de0-92628f3bfcae",
   "metadata": {},
   "source": [
    "1. ssh into the cluster\n",
    "    ```bash\n",
    "    ssh your_short_server_nickname\n",
    "    ```\n",
    "2. Create and enter a screen session named jupyter\n",
    "    ```bash\n",
    "    screen -S jupyter\n",
    "    ```\n",
    "3. View a list of running screen sessions\n",
    "    ```bash\n",
    "    screen -ls\n",
    "    ```\n",
    "4. If you are working on an HPC, you can login to an interactive node and reverse-forward your port at this stage.\n",
    "5. Start jupyter on the cluster\n",
    "    ```bash\n",
    "    jup &\n",
    "    ```\n",
    "6. In a browser running on your own computer, go to http://localhost:8888/lab\n",
    "7. If your ssh connection dies, everything in your screen session will continue running. Just log back in and reattach the session to continue where you left off. (Note: If you are working on an HPC, you will need to use the same login node as before!)\n",
    "    ```bash\n",
    "    screen -r jupyter\n",
    "    ```\n",
    "8. You can also terminate a session while inside of it\n",
    "    ```bash\n",
    "    exit\n",
    "    ```\n",
    "    Or, if you’d like to detach from a session (instead of terminating it) while you’re inside of it, press ctrl+a and then the letter d"
   ]
  }
 ],
 "metadata": {
  "kernelspec": {
   "display_name": "Python 3",
   "language": "python",
   "name": "python3"
  },
  "language_info": {
   "codemirror_mode": {
    "name": "ipython",
    "version": 3
   },
   "file_extension": ".py",
   "mimetype": "text/x-python",
   "name": "python",
   "nbconvert_exporter": "python",
   "pygments_lexer": "ipython3",
   "version": "3.9.5"
  }
 },
 "nbformat": 4,
 "nbformat_minor": 5
}
