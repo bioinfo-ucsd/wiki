{
 "cells": [
  {
   "cell_type": "markdown",
   "metadata": {},
   "source": [
    "# Contributing"
   ]
  },
  {
   "cell_type": "markdown",
   "metadata": {},
   "source": [
    "## Editing pages on GitHub"
   ]
  },
  {
   "cell_type": "markdown",
   "metadata": {},
   "source": [
    "If you are a member of [@bioinfo-ucsd Github org](https://github.com/bioinfo-ucsd), you can edit any of the pages in this wiki! We really appreciate any contributions!\n",
    "\n",
    "1. First, log into GitHub and navigate to the GitHub repository here:\n",
    "\n",
    "    https://github.com/bioinfo-ucsd/wiki/tree/main/wiki/docs\n",
    "\n",
    "2. If you haven't already, create a new branch so that your changes do not conflict with anyone else's. Click on \"main\" in the menu on the left side, type your new branch name in the search box, and then \"Create branch _____ from main\".\n",
    "\n",
    "    For example, to create a new branch named _tutorial_:\n",
    "\n",
    "    <center><img src=\"../images/creating_new_github_branch.png\" width=\"400\"/></center>\n",
    "\n",
    "    If you've already created a new branch, you can instead switch to it by selecting it from the search menu.\n",
    "\n",
    "3. Next, click \".\" (ie the period symbol) on your keyboard. This will open a VSCode-style editor within your browser.\n",
    "\n",
    "4. Make your edits. The pages in our wiki are under the \"wiki/docs/\" folder.\n",
    "\n",
    "    If you are creating a new page, make sure to add it to our table of contents in the `wiki/_toc.yml` file.\n",
    "\n",
    "5. Save your changes to GitHub:\n",
    "\n",
    "    a. Click on the \"Source Control\" tab in the menu on the right\n",
    "\n",
    "    b. Add a short commit message that describes your changes\n",
    "    \n",
    "    c. Click \"Commit and Push\"\n",
    "\n",
    "    <center><img src=\"../images/github_commit_and_push.png\" width=\"400\"/></center>\n",
    "\n",
    "6. Feel free to make more changes and commits as needed. Once you're ready, open a pull request by choosing your branch from the dropdown under \"compare: main\":\n",
    "\n",
    "    https://github.com/bioinfo-ucsd/wiki/compare\n",
    "\n",
    "    <center><img src=\"../images/creating_pr.png\" width=\"400\"/></center>\n",
    "\n",
    "7. Click \"Create pull request\" and then add an informative title and description of your changes. Then click \"Create pull request\" again.\n",
    "\n",
    "8. Ask someone to review your pull request:\n",
    "\n",
    "    a. Click on the gear icon in the top/right corner\n",
    "\n",
    "    b. Type the GitHub username of someone capable of giving you helpful feedback on your changes\n",
    "\n",
    "    c. Choose that person\n",
    "\n",
    "    <center><img src=\"../images/choosing_a_reviewer.png\" width=\"400\"/></center>\n",
    "\n",
    "9. A bot will automatically build a preview of the wiki with your changes. If the build succeeds, you should see a green check mark next to your latest commit. Otherwise, there should be a red X.\n",
    "\n",
    "    If your build succeeded, you can view the built preview by clicking on the green check mark and then the \"Details\" link\n",
    "    \n",
    "    Otherwise, you can view a log of the error messages by clicking on the red X. If the build failed, you should add another commit to fix it.\n",
    "\n",
    "10. Once the build succeeds and a reviewer has approved your pull request, scroll down to the bottom of the pull request and click \"Squash and merge\". You're done!"
   ]
  },
  {
   "cell_type": "markdown",
   "metadata": {},
   "source": [
    "## Editing pages locally"
   ]
  },
  {
   "cell_type": "markdown",
   "metadata": {},
   "source": [
    "You can also build the documentation locally using the dependencies provided in the `environment.yml` conda environment. This environment is used for all testing and building by Github Actions.\n",
    "\n",
    "Once you have the environment installed and activated, run the following command in your terminal:\n",
    "\n",
    "```bash\n",
    "jb build wiki/\n",
    "```\n",
    "\n",
    "You can then preview the book by opening the file `wiki/_build/html/index.html` in your browser.\n",
    "\n",
    "If you would like to work with a clean build, you can empty the build folder by running:\n",
    "\n",
    "```bash\n",
    "jb clean wiki/\n",
    "```\n",
    "\n",
    "If jupyter execution is cached, this command will not delete the cached folder.\n",
    "\n",
    "To remove the build folder (including `cached` executables), you can run:\n",
    "\n",
    "```bash\n",
    "jb clean --all wiki/\n",
    "```"
   ]
  }
 ],
 "metadata": {
  "language_info": {
   "name": "python"
  }
 },
 "nbformat": 4,
 "nbformat_minor": 2
}
