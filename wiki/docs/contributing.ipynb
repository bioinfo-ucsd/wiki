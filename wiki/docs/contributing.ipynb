{
 "cells": [
  {
   "cell_type": "markdown",
   "metadata": {},
   "source": [
    "# Contributing"
   ]
  },
  {
   "cell_type": "markdown",
   "metadata": {},
   "source": [
    "If you are a member of our GitHub organization, you can edit any of the pages in this wiki!\n",
    "\n",
    "1. First, log into GitHub and navigate to the GitHub repository here:\n",
    "\n",
    "    https://github.com/bioinfo-ucsd/wiki/tree/main/wiki/docs\n",
    "\n",
    "2. If you haven't already, create a new branch so that your changes do not conflict with anyone else's. Click on \"main\" in the menu on the left side, type your new branch name in the search box, and then \"Create branch _____ from main\".\n",
    "\n",
    "    For example, to create a new branch named _tutorial_:\n",
    "\n",
    "    <center><img src=\"../images/creating_new_github_branch.png\" width=\"400\"/></center>\n",
    "\n",
    "    If you've already created a new branch, you can instead switch to it by selecting it from the search menu.\n",
    "\n",
    "3. Next, click \".\" (ie the period symbol) on your keyboard. This will open a VSCode-style editor within your browser.\n",
    "\n",
    "4. Make your edits. The pages in our wiki are under the \"wiki/docs/\" folder.\n",
    "\n",
    "5. Commit and push your changes:\n",
    "    a. Click on the \"Source Control\" tab in the menu on the right\n",
    "    b. Add a short commit message that describes your changes\n",
    "    c. Click \"Commit and Push\""
   ]
  },
  {
   "cell_type": "markdown",
   "metadata": {},
   "source": []
  }
 ],
 "metadata": {
  "language_info": {
   "name": "python"
  }
 },
 "nbformat": 4,
 "nbformat_minor": 2
}
